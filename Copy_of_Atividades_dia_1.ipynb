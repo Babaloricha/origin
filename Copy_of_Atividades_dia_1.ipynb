{
  "nbformat": 4,
  "nbformat_minor": 0,
  "metadata": {
    "colab": {
      "name": "Copy of Atividades-dia-1.ipynb",
      "version": "0.3.2",
      "provenance": [],
      "collapsed_sections": [],
      "include_colab_link": true
    },
    "kernelspec": {
      "name": "python3",
      "display_name": "Python 3"
    }
  },
  "cells": [
    {
      "cell_type": "markdown",
      "metadata": {
        "id": "view-in-github",
        "colab_type": "text"
      },
      "source": [
        "<a href=\"https://colab.research.google.com/github/Babaloricha/origin/blob/master/Copy_of_Atividades_dia_1.ipynb\" target=\"_parent\"><img src=\"https://colab.research.google.com/assets/colab-badge.svg\" alt=\"Open In Colab\"/></a>"
      ]
    },
    {
      "cell_type": "markdown",
      "metadata": {
        "id": "fonxfQ7J0367",
        "colab_type": "text"
      },
      "source": [
        "<p align=\"center\"> \n",
        "<img src=\"https://datascience.study/wp-content/uploads/2019/01/python-logo.png\">\n",
        "</p>\n",
        "\n",
        "## Python Turtle\n",
        "\n",
        "Python **turtle** é um pacote python muito útil para aprender a utilizar várias funções juntas, além de servir para aprender a sintaxe do Python. O turtle permite criar imagens de forma simples e intuitiva. O pacote original do Python não funciona no Colab, então vamos utilizar uma alternativa chamada **ColabTurtle** que vai conter os comandos que precisamos. Como o colab é dinâmico, precisamos instalar as bibliotecas toda vez que utilizamos ele. Felizmente isso é muito fácil de fazer."
      ]
    },
    {
      "cell_type": "code",
      "metadata": {
        "id": "0mTyuzXH00fO",
        "colab_type": "code",
        "outputId": "862f794f-6f09-40d0-ca73-40fd164d8751",
        "colab": {
          "base_uri": "https://localhost:8080/",
          "height": 34
        }
      },
      "source": [
        "# Instalando o ColabTurtle\n",
        "!pip3 -q install ColabTurtle"
      ],
      "execution_count": 3,
      "outputs": [
        {
          "output_type": "stream",
          "text": [
            "  Building wheel for ColabTurtle (setup.py) ... \u001b[?25l\u001b[?25hdone\n"
          ],
          "name": "stdout"
        }
      ]
    },
    {
      "cell_type": "markdown",
      "metadata": {
        "id": "m7BPloFSI6Ub",
        "colab_type": "text"
      },
      "source": [
        "A ColabTurtle é bem simples, então não possui muitas operações, mas vamos fazer exemplos úteis e até mais elaborados, partindo de algumas formas geométricas básicas. A tabela a seguir mostra os principais métodos disponíveis no ColabTurtle:\n",
        "\n",
        "| Função                 | Parâmetros               | Descrição da Função                                                 |\n",
        "|------------------------|--------------------------|---------------------------------------------------------------------|\n",
        "| turtle.forward(units)  | **units:** int           | Movimenta o turtle para a frente por units posições.                |\n",
        "| turtle.backward(units) | **units:** int           | Movimenta o turtle para trás por units posições.                    |\n",
        "| turtle.right(degree)   | **degree:** int ou float | Movimenta o turtle degree graus à direita.                          |\n",
        "| turtle.left(degree)    | **degree:** int ou float | Movimenta o turtle degree graus à esquerda.                         |\n",
        "| turtle.penup()         | nenhum                   | Desliga a \"caneta\", ou seja, só executa os movimentos sem desenhar. |\n",
        "| turtle.pendown()       | nenhum                   | Liga a \"caneta\", ou seja, executa os movimentos e desenha.          |\n",
        "| turtle.speed(speed)    | **speed:** int           | Modifica a velocidade dos movimentos, speed entre 1 e 10.           |\n",
        "| turtle.bgcolor(color)    | **color:** String        | Modifica a cor do fundo para color desde que color seja uma das turtle.VALID_COLORS.                 |\n",
        "| turtle.color(color)    | **color:** String        | Modifica a cor da caneta para color desde que color seja uma das turtle.VALID_COLORS.                 |\n",
        "| turtle.goto(x, y)      | **x:** int, **y:** int   | Movimenta o turtle para as coordenadas (x, y).                      |\n",
        "| turtle.hideturtle() | nenhum | Esconde a tartaruga. |\n",
        "| turtle.showturtle() | nenhum | Mostra a tartaruga. |\n",
        "|||\n",
        "\n",
        "<center><b>Tab.1</b> - Principais funções disponíveis na ColabTurtle.</center>\n",
        "\n",
        "Outras funções estão disponíveis e podem ser consultadas [aqui](https://github.com/tolgaatam/ColabTurtle/blob/master/ColabTurtle/Turtle.py). Nós importamos o turtle a partir da **ColabTurtle.Turtle**, nesse caso é uma instância do pacote Python ColabTurtle.Turtle. Toda vez que usamos a turtle, precisamos chamar o método **initializeTurtle** que é responsável por inicializar o objeto da turtle (posicionar a caneta, criar a imagem de desenho entre outras configurações iniciais). Ao chamar **initializeTurtle** vamos visualizar um fundo preto com uma \"tartaruga\" branca (por isso o nome do pacote)."
      ]
    },
    {
      "cell_type": "code",
      "metadata": {
        "id": "k8QroU7MrVdw",
        "colab_type": "code",
        "outputId": "fece3dc3-8a42-4c05-d048-846a2012fe41",
        "colab": {
          "base_uri": "https://localhost:8080/",
          "height": 521
        }
      },
      "source": [
        "# Importando o modulo\n",
        "import ColabTurtle.Turtle as turtle\n",
        "# Vamos usar o math mais a frente\n",
        "import math\n",
        "\n",
        "# Inicializando o modulo\n",
        "turtle.initializeTurtle()"
      ],
      "execution_count": 4,
      "outputs": [
        {
          "output_type": "display_data",
          "data": {
            "text/html": [
              "\n",
              "      <svg width=\"800\" height=\"500\">\n",
              "        <rect width=\"100%\" height=\"100%\" fill=\"black\"/>\n",
              "        \n",
              "        \n",
              "      <g visibility=visible transform=\"rotate(180,400,250) translate(400, 250)\">\n",
              "        <circle stroke=\"white\" stroke-width=\"3\" fill=\"transparent\" r=\"12\" cx=\"0\" cy=\"0\"/>\n",
              "        <polygon points=\"0,19 3,16 -3,16\" style=\"fill:white;stroke:white;stroke-width:2\"/>\n",
              "      </g>\n",
              "    \n",
              "      </svg>\n",
              "    "
            ],
            "text/plain": [
              "<IPython.core.display.HTML object>"
            ]
          },
          "metadata": {
            "tags": []
          }
        }
      ]
    },
    {
      "cell_type": "markdown",
      "metadata": {
        "id": "l-mqveb2rWUi",
        "colab_type": "text"
      },
      "source": [
        "Podemos alterar os parâmetros iniciais, por exemplo mudar o fundo e a tartaruga para outras cores. Atualmente as cores disponíveis são: 'white', 'yellow', 'orange', 'red', 'green', 'blue', 'purple', 'grey' e 'black'. "
      ]
    },
    {
      "cell_type": "code",
      "metadata": {
        "id": "CE9jl0dYuN33",
        "colab_type": "code",
        "outputId": "5159630a-eca1-466b-9daa-f21d5b90b807",
        "colab": {
          "base_uri": "https://localhost:8080/",
          "height": 582
        }
      },
      "source": [
        "# Atualmente o ColabTurtle força a chamada para redesenhar, \n",
        "# então depois de chamar o initializeTurtle (célula acima), basta modificar os\n",
        "# parâmetros e o modulo redesenha automaticamente.\n",
        "turtle.bgcolor(\"yellow\")\n",
        "turtle.color(\"green\")"
      ],
      "execution_count": 0,
      "outputs": [
        {
          "output_type": "display_data",
          "data": {
            "text/html": [
              "\n",
              "      <svg width=\"800\" height=\"500\">\n",
              "        <rect width=\"100%\" height=\"100%\" fill=\"yellow\"/>\n",
              "        \n",
              "        \n",
              "      <g visibility=visible transform=\"rotate(180,400,250) translate(400, 250)\">\n",
              "        <circle stroke=\"green\" stroke-width=\"3\" fill=\"transparent\" r=\"12\" cx=\"0\" cy=\"0\"/>\n",
              "        <polygon points=\"0,19 3,16 -3,16\" style=\"fill:green;stroke:green;stroke-width:2\"/>\n",
              "      </g>\n",
              "    \n",
              "      </svg>\n",
              "    "
            ],
            "text/plain": [
              "<IPython.core.display.HTML object>"
            ]
          },
          "metadata": {
            "tags": []
          }
        }
      ]
    },
    {
      "cell_type": "markdown",
      "metadata": {
        "id": "fzLSIPCLh7b5",
        "colab_type": "text"
      },
      "source": [
        "### Entendendo alguns comandos\n",
        "\n",
        "Vamos ver o resultado de alguns comandos do turtle. O comando **forward** move a turtle para frente de acordo com a quantidade de passos recebida por parâmetro."
      ]
    },
    {
      "cell_type": "code",
      "metadata": {
        "id": "11QifEeDh6xG",
        "colab_type": "code",
        "outputId": "57aee4a8-a1cc-4482-aec8-4f6d71d0dd69",
        "colab": {
          "base_uri": "https://localhost:8080/",
          "height": 521
        }
      },
      "source": [
        "# Movendo a turtle para frente por 100 passos\n",
        "turtle.initializeTurtle()\n",
        "turtle.speed(3)\n",
        "turtle.forward(100)\n",
        "turtle.right(90)\n",
        "turtle.forward(200)\n",
        "turtle.right(180)\n",
        "turtle.forward(400)\n",
        "turtle.right(45)\n",
        "turtle.forward(50)\n"
      ],
      "execution_count": 7,
      "outputs": [
        {
          "output_type": "display_data",
          "data": {
            "text/html": [
              "\n",
              "      <svg width=\"800\" height=\"500\">\n",
              "        <rect width=\"100%\" height=\"100%\" fill=\"black\"/>\n",
              "        <line x1=\"400\" y1=\"250\" x2=\"400.0\" y2=\"150.0\" stroke-linecap=\"round\" style=\"stroke:white;stroke-width:4\"/><line x1=\"400.0\" y1=\"150.0\" x2=\"600.0\" y2=\"150.0\" stroke-linecap=\"round\" style=\"stroke:white;stroke-width:4\"/><line x1=\"600.0\" y1=\"150.0\" x2=\"200.0\" y2=\"150.00000000000006\" stroke-linecap=\"round\" style=\"stroke:white;stroke-width:4\"/><line x1=\"200.0\" y1=\"150.00000000000006\" x2=\"164.64466094067262\" y2=\"114.64466094067268\" stroke-linecap=\"round\" style=\"stroke:white;stroke-width:4\"/>\n",
              "        \n",
              "      <g visibility=visible transform=\"rotate(135,164.64466094067262,114.64466094067268) translate(164.64466094067262, 114.64466094067268)\">\n",
              "        <circle stroke=\"white\" stroke-width=\"3\" fill=\"transparent\" r=\"12\" cx=\"0\" cy=\"0\"/>\n",
              "        <polygon points=\"0,19 3,16 -3,16\" style=\"fill:white;stroke:white;stroke-width:2\"/>\n",
              "      </g>\n",
              "    \n",
              "      </svg>\n",
              "    "
            ],
            "text/plain": [
              "<IPython.core.display.HTML object>"
            ]
          },
          "metadata": {
            "tags": []
          }
        }
      ]
    },
    {
      "cell_type": "markdown",
      "metadata": {
        "id": "LA1hegXhi_y9",
        "colab_type": "text"
      },
      "source": [
        "Analogamente o comando **backward** faz a tartaruga andar para trás:"
      ]
    },
    {
      "cell_type": "code",
      "metadata": {
        "id": "ZhHUd5fnifr7",
        "colab_type": "code",
        "outputId": "fc2c2d74-8ab2-429a-cec8-51d2f07af71c",
        "colab": {
          "base_uri": "https://localhost:8080/",
          "height": 602
        }
      },
      "source": [
        "# Movendo a turtle para trás por 100 passos\n",
        "turtle.initializeTurtle()\n",
        "turtle.backward(100)"
      ],
      "execution_count": 0,
      "outputs": [
        {
          "output_type": "display_data",
          "data": {
            "text/html": [
              "\n",
              "      <svg width=\"800\" height=\"500\">\n",
              "        <rect width=\"100%\" height=\"100%\" fill=\"black\"/>\n",
              "        <line x1=\"400\" y1=\"250\" x2=\"400.0\" y2=\"350.0\" stroke-linecap=\"round\" style=\"stroke:white;stroke-width:4\"/>\n",
              "        \n",
              "      <g visibility=visible transform=\"rotate(180,400.0,350.0) translate(400.0, 350.0)\">\n",
              "        <circle stroke=\"white\" stroke-width=\"3\" fill=\"transparent\" r=\"12\" cx=\"0\" cy=\"0\"/>\n",
              "        <polygon points=\"0,19 3,16 -3,16\" style=\"fill:white;stroke:white;stroke-width:2\"/>\n",
              "      </g>\n",
              "    \n",
              "      </svg>\n",
              "    "
            ],
            "text/plain": [
              "<IPython.core.display.HTML object>"
            ]
          },
          "metadata": {
            "tags": []
          }
        }
      ]
    },
    {
      "cell_type": "markdown",
      "metadata": {
        "id": "hLQinzx_jG-n",
        "colab_type": "text"
      },
      "source": [
        "Podemos combinar os comandos **forward** ou **backward** com os comandos **right** e **left**. Por exemplo, fazer a turtle andar 100 passos, virar 90$^\\circ$ a esquerda (**left**) e andar mais 100 passos:"
      ]
    },
    {
      "cell_type": "code",
      "metadata": {
        "id": "ohRtq0cIj3hL",
        "colab_type": "code",
        "outputId": "a28bd82d-4794-4b9d-a0ba-ded806c4234e",
        "colab": {
          "base_uri": "https://localhost:8080/",
          "height": 642
        }
      },
      "source": [
        "# Movendo a turtle para frente por 100 passos e virando 90 graus a esquerda\n",
        "turtle.initializeTurtle()\n",
        "\n",
        "turtle.speed(1)\n",
        "\n",
        "# Move 100 passos desenhando\n",
        "turtle.forward(100)\n",
        "\n",
        "# Vira 90 graus a esquerda\n",
        "turtle.left(90)\n",
        "\n",
        "# Move 100 passos desenhando\n",
        "turtle.forward(100)"
      ],
      "execution_count": 0,
      "outputs": [
        {
          "output_type": "display_data",
          "data": {
            "text/html": [
              "\n",
              "      <svg width=\"800\" height=\"500\">\n",
              "        <rect width=\"100%\" height=\"100%\" fill=\"black\"/>\n",
              "        <line x1=\"400\" y1=\"250\" x2=\"400.0\" y2=\"150.0\" stroke-linecap=\"round\" style=\"stroke:white;stroke-width:4\"/><line x1=\"400.0\" y1=\"150.0\" x2=\"300.0\" y2=\"150.0\" stroke-linecap=\"round\" style=\"stroke:white;stroke-width:4\"/>\n",
              "        \n",
              "      <g visibility=visible transform=\"rotate(90,300.0,150.0) translate(300.0, 150.0)\">\n",
              "        <circle stroke=\"white\" stroke-width=\"3\" fill=\"transparent\" r=\"12\" cx=\"0\" cy=\"0\"/>\n",
              "        <polygon points=\"0,19 3,16 -3,16\" style=\"fill:white;stroke:white;stroke-width:2\"/>\n",
              "      </g>\n",
              "    \n",
              "      </svg>\n",
              "    "
            ],
            "text/plain": [
              "<IPython.core.display.HTML object>"
            ]
          },
          "metadata": {
            "tags": []
          }
        }
      ]
    },
    {
      "cell_type": "markdown",
      "metadata": {
        "id": "FC2J16pukJsj",
        "colab_type": "text"
      },
      "source": [
        "E se por acaso quisessemos fazer a turtle andar 100 passos a frente, depois virar a esquerda, andar mais 100 passos (mas sem desenhar nada) e então virar a esqueda e andar 100 passos? Para que a turtle caminhe sem desenhar nós usamos o comando **penup** (\"levantar a caneta\") e para voltar a desenhar usamos **pendown** (\"abaixar a caneta\"). Além disso podemos esconder a turtle a partir do método **hideturtle**."
      ]
    },
    {
      "cell_type": "code",
      "metadata": {
        "id": "dB8k2Ja_kpDE",
        "colab_type": "code",
        "outputId": "2d9b6552-78d3-4d26-c702-53098b6821b2",
        "colab": {
          "base_uri": "https://localhost:8080/",
          "height": 521
        }
      },
      "source": [
        "# Fazendo duas linhas paralelas com a turtle\n",
        "turtle.initializeTurtle()\n",
        "\n",
        "\n",
        "turtle.speed(1)\n",
        "# Move 100 passos desenhando\n",
        "turtle.forward(100)\n",
        "\n",
        "# Vira 90 graus a esquerda\n",
        "turtle.left(90)\n",
        "\n",
        "# Levanta a caneta para não desenhar\n",
        "turtle.penup()\n",
        "\n",
        "# Move 100 passos sem desenhar\n",
        "turtle.forward(100)\n",
        "\n",
        "# Vira 90 graus a esquerda\n",
        "turtle.left(90)\n",
        "\n",
        "# Recoloca a caneta para desenhar\n",
        "turtle.pendown()\n",
        "turtle.color('red')\n",
        "\n",
        "# Move 100 passos desenhando\n",
        "turtle.forward(100)\n",
        "\n",
        "# Escondendo a turtle\n",
        "turtle.hideturtle()"
      ],
      "execution_count": 9,
      "outputs": [
        {
          "output_type": "display_data",
          "data": {
            "text/html": [
              "\n",
              "      <svg width=\"800\" height=\"500\">\n",
              "        <rect width=\"100%\" height=\"100%\" fill=\"black\"/>\n",
              "        <line x1=\"400\" y1=\"250\" x2=\"400.0\" y2=\"150.0\" stroke-linecap=\"round\" style=\"stroke:white;stroke-width:4\"/><line x1=\"300.0\" y1=\"150.0\" x2=\"300.0\" y2=\"250.0\" stroke-linecap=\"round\" style=\"stroke:red;stroke-width:4\"/>\n",
              "        \n",
              "      <g visibility=hidden transform=\"rotate(0,300.0,250.0) translate(300.0, 250.0)\">\n",
              "        <circle stroke=\"red\" stroke-width=\"3\" fill=\"transparent\" r=\"12\" cx=\"0\" cy=\"0\"/>\n",
              "        <polygon points=\"0,19 3,16 -3,16\" style=\"fill:red;stroke:red;stroke-width:2\"/>\n",
              "      </g>\n",
              "    \n",
              "      </svg>\n",
              "    "
            ],
            "text/plain": [
              "<IPython.core.display.HTML object>"
            ]
          },
          "metadata": {
            "tags": []
          }
        }
      ]
    },
    {
      "cell_type": "markdown",
      "metadata": {
        "id": "gVWSsw_-lpHZ",
        "colab_type": "text"
      },
      "source": [
        "Para entender melhor a turtle e testar o que estamos aprendendo, vamos fazer uns exercícios básicos. Primeiro, faça a turtle desenhar uma linha em diagonal, de acordo com o grau recebido. O lado para desenhar a diagonal é de sua escolha."
      ]
    },
    {
      "cell_type": "code",
      "metadata": {
        "id": "GhmH1XldnxIz",
        "colab_type": "code",
        "colab": {}
      },
      "source": [
        "grau = 0 #@param {type:\"integer\"}\n",
        "\n",
        "turtle.initializeTurtle()\n",
        "# Escreva aqui"
      ],
      "execution_count": 0,
      "outputs": []
    },
    {
      "cell_type": "markdown",
      "metadata": {
        "id": "7EjOJbvdn4OY",
        "colab_type": "text"
      },
      "source": [
        "E se eu quiser fazer a diagonal para o outro lado? Ou seja, o lado contrário ao que você escolheu no exercício anterior. Modifique o código acima para obter esse resultado."
      ]
    },
    {
      "cell_type": "code",
      "metadata": {
        "id": "JpOYzL7DoQIK",
        "colab_type": "code",
        "colab": {}
      },
      "source": [
        "grau = 0 #@param {type:\"integer\"}\n",
        "\n",
        "turtle.initializeTurtle()\n",
        "# Escreva aqui"
      ],
      "execution_count": 0,
      "outputs": []
    },
    {
      "cell_type": "markdown",
      "metadata": {
        "id": "c1i2mVvMoqL5",
        "colab_type": "text"
      },
      "source": [
        "E se eu quiser mudar a cor da caneta? Ou seja, desenhar as linhas de outra cor. O turtle tem um número limitado de cores, que estão disponíveis em uma constante interna do módulo chamada **VALID_COLORS**. É fácil acessá-la pela turtle:"
      ]
    },
    {
      "cell_type": "code",
      "metadata": {
        "id": "nozjrcr1opQ0",
        "colab_type": "code",
        "outputId": "5168d7aa-d2bf-4f7b-9f4e-9eb93050d8f1",
        "colab": {
          "base_uri": "https://localhost:8080/",
          "height": 74
        }
      },
      "source": [
        "# Cores válidas para desenhar com o turtle\n",
        "cores = turtle.VALID_COLORS\n",
        "\n",
        "# Imprimindo as cores\n",
        "print(cores)\n",
        "\n",
        "turtle.initializeTurtle()"
      ],
      "execution_count": 0,
      "outputs": [
        {
          "output_type": "stream",
          "text": [
            "('white', 'yellow', 'orange', 'red', 'green', 'blue', 'purple', 'grey', 'black')\n"
          ],
          "name": "stdout"
        }
      ]
    },
    {
      "cell_type": "markdown",
      "metadata": {
        "id": "FZ0vbvN6pYGu",
        "colab_type": "text"
      },
      "source": [
        "O que foi retornado em cores é um tipo de estrutura de dados chamada de **tupla**, por enquanto não se preocupe em entender esse conceito, pois, vamos estudar ele na hora certa. O print acima revelou as cores que temos disponíveis. Altere os códigos acima para: \n",
        "\n",
        "(1) imprimir as linhas com uma outra cor (escolha uma entre as válidas).\n",
        "\n",
        "(2) desenhar uma linha de cada cor (nos exemplos e exercícios que for aplicável)."
      ]
    },
    {
      "cell_type": "code",
      "metadata": {
        "id": "VetKmTNApXPc",
        "colab_type": "code",
        "colab": {}
      },
      "source": [
        "# Escreva aqui"
      ],
      "execution_count": 0,
      "outputs": []
    },
    {
      "cell_type": "markdown",
      "metadata": {
        "id": "kYi6-cTguRkN",
        "colab_type": "text"
      },
      "source": [
        "## Desenhando formas geométricas básicas\n",
        "\n",
        "O interessante de trabalhar com turtle é que além de utilizarmos muitos conceitos de programação, podemos construir figuras complexas utilizando formas geométricas básicas. Para fazer as atividades de hoje, vamos precisar de três formas geométricas: **retângulo**, **círculo**,  e **triângulo**."
      ]
    },
    {
      "cell_type": "markdown",
      "metadata": {
        "id": "LDd1mOfMNLlb",
        "colab_type": "text"
      },
      "source": [
        "### Retângulo\n",
        "\n",
        "A forma geomêtrica mais básica que podemos desenhar é o retângulo. Um retângulo é uma forma geométrica que tem quatro lados. Os lados maiores são chamados de bases denotados por $ b $ e os menores de altura denotados por $h$. Um retângulo têm quatro ângulos retos, ou seja, cada ângulo interno do retângulo tem $90^\\circ$. Na Figura abaixo é apresentado um exemplo de retângulo:\n",
        "\n",
        "<p align=\"center\"> \n",
        "<img src=\"https://matematicabasica.net/wp-content/uploads/2019/02/retangulo-2.png\">\n",
        "</p>\n",
        "<p align=\"center\">  \n",
        "<b>Fig.1 - </b> Exemplo de um retângulo.\n",
        "</p>\n",
        "\n",
        "Para desenhar um retângulo na ColabTurtle, vamos fazer uma função que recebe como parâmetro um objeto turtle $ t $, a base do retângulo $ b $, a altura do retângulo $ h $ e uma cor $color$ para o retângulo. Agora vamos pensar um pouco, como desenhar um retângulo com a ColabTurtle? O retângulo possui ângulos retos de $90^\\circ$, podemos então fazer o turtle andar $ h $ unidades, virar $90^\\circ$ à esquerda, andar $b$ unidades, virar $90^\\circ$ à esquerda, andar $h$ unidades, virar $90^\\circ$ à esquerda, andar $ b $ unidades e finalmente desenhamos o retângulo!"
      ]
    },
    {
      "cell_type": "code",
      "metadata": {
        "id": "RLCDG7TI5k0X",
        "colab_type": "code",
        "colab": {}
      },
      "source": [
        "# \n",
        "# Função que desenha um retângulo com a ColabTurtle\n",
        "#\n",
        "# Entradas : t = objeto turtle.\n",
        "#            b = base do retângulo (int).\n",
        "#            h = altura do retângulo (int).\n",
        "#            color = cor do retângulo (String) em turtle.VALID_COLORS.\n",
        "#\n",
        "def rectangle(t, b, h, color=\"red\"):\n",
        "    # escreva aqui\n",
        "    "
      ],
      "execution_count": 0,
      "outputs": []
    },
    {
      "cell_type": "markdown",
      "metadata": {
        "id": "biMdFQUu6zYX",
        "colab_type": "text"
      },
      "source": [
        "Vamos desenhar um retângulo, com base $b=200$ e altura $h=100$, na cor azul:"
      ]
    },
    {
      "cell_type": "code",
      "metadata": {
        "id": "H0r0PUsX67yx",
        "colab_type": "code",
        "colab": {}
      },
      "source": [
        "b = 200 #@param {type:\"integer\"}\n",
        "h = 100 #@param {type:\"integer\"}\n",
        "color = \"blue\" #@param {type:\"string\"}\n",
        "speed = 7 #@param {type:\"slider\", min:1, max:10, step:1}\n",
        "width = 3 #@param {type:\"integer\"}\n",
        "\n",
        "# Desenhando...\n",
        "turtle.initializeTurtle()\n",
        "turtle.speed(speed)\n",
        "turtle.width(width)\n",
        "rectangle(turtle, b, h, color)\n",
        "turtle.hideturtle()"
      ],
      "execution_count": 0,
      "outputs": []
    },
    {
      "cell_type": "markdown",
      "metadata": {
        "id": "UyF5rjc168kk",
        "colab_type": "text"
      },
      "source": [
        "Divertido, não é mesmo? Será que é difícil adaptar o código para desenhar quadrados? Lembre-se, um quadrado é um retângulo com os quatro lados de mesmo tamanho, portanto $b=h$, nesse caso chamamos de lado do quadrado e denotamos por $l$. Pense um pouco, e faça uma função para desenhar um quadrado que chama a nossa função **rectangle**."
      ]
    },
    {
      "cell_type": "code",
      "metadata": {
        "id": "uqDVJAnm7b9J",
        "colab_type": "code",
        "colab": {}
      },
      "source": [
        "# \n",
        "#  Função que desenha um quadrado\n",
        "#\n",
        "#  Entradas : t = objeto turtle.\n",
        "#             l = lado do quadrado (int).\n",
        "#             color = cor do retângulo (String) em turtle.VALID_COLORS.\n",
        "#\n",
        "def square(t, l, color=\"red\"):\n",
        "    # escreva aqui\n",
        "    "
      ],
      "execution_count": 0,
      "outputs": []
    },
    {
      "cell_type": "markdown",
      "metadata": {
        "id": "jOGZ6nrvMyOv",
        "colab_type": "text"
      },
      "source": [
        "Para testar a função **square** considere um quadrado de lado $ l=200 $."
      ]
    },
    {
      "cell_type": "code",
      "metadata": {
        "id": "BUK5FBswMxgO",
        "colab_type": "code",
        "colab": {}
      },
      "source": [
        "l = 200 #@param {type:\"integer\"}\n",
        "color = \"green\" #@param {type:\"string\"}\n",
        "speed = 5 #@param {type:\"slider\", min:1, max:10, step:1}\n",
        "width = 3 #@param {type:\"integer\"}\n",
        "\n",
        "# Desenhando...\n",
        "turtle.initializeTurtle()\n",
        "turtle.speed(speed)\n",
        "turtle.width(width)\n"
      ],
      "execution_count": 0,
      "outputs": []
    },
    {
      "cell_type": "markdown",
      "metadata": {
        "id": "h5M5PKqIN3Uz",
        "colab_type": "text"
      },
      "source": [
        "### Círculo\n",
        "\n",
        "O círculo é outra forma geométrica básica. Um círculo é o conjunto de pontos internos de uma **circunferência**. Circunferência é um conjunto dos pontos $ p_i $ de um plano cuja distância dos pontos ao centro $ c $ desse plano é igual ao raio $ r $ da circunferência. A extensão da circunferência é chamada de **perímetro**, e é obtida pela fórmula $ p=2 \\pi r $. A quantidade de pontos internos da circunferência é chamado de área do círculo, e é dada por $ a=\\pi r^2 $. A Figura abaixo ilustra alguns conceitos de um círculo:\n",
        "\n",
        "<p align=\"center\">\n",
        "        <img width=250px src=\"https://matematicabasica.net/wp-content/uploads/2019/02/area-e-perimetro-10.png\" />\n",
        "</p>\n",
        "<center>\n",
        "    <b>Fig.2 - </b> Exemplo de um círculo e algumas medidas que podemos calcular.\n",
        "</center>\n",
        "\n",
        "Para desenhar um círculo com a ColabTurtle, vamos usar uma ideia simples que fornece um resultado muito satisfatório. Primeiro vamos pensar, o que queremos fornecer ao desenhar um círculo? A resposta é o raio $r$, ou talvez o diâmetro. E dado um círculo de raio $ r $ como desenhar a sua circunferência? Vamos calcular seu perímetro $ p $ e dar $ n $ passos $ step = \\frac{p}{n} $ pequenos e suficientes até completar $p $, ou seja, a ideia é andar um pouco por vez até chegar no valor do perímetro. Mas por que fazer isso? Porque vamos intercalar pequenos passos com variações de ângulos e isso vai resultar em um círculo! E para fazer essa variação vamos usar as mesmas funções que usamos para desenhar os retângulos!"
      ]
    },
    {
      "cell_type": "code",
      "metadata": {
        "id": "N6tV1El6ZD9C",
        "colab_type": "code",
        "colab": {}
      },
      "source": [
        "# \n",
        "# Função que desenha um círculo com a ColabTurtle\n",
        "#\n",
        "# Entradas : t = objeto turtle.\n",
        "#            r = raio da círculo (int).\n",
        "#            color = cor do retângulo (String) em turtle.VALID_COLORS.\n",
        "#\n",
        "def circle(t, r, color=\"red\"):\n",
        "    t.color(color)\n",
        "    perimeter = 2 * math.pi * r        \n",
        "    n = int(perimeter / 3) + 3\n",
        "    step = int(perimeter / n)\n",
        "    angle = 360/n\n",
        "    for i in range(n):\n",
        "        t.forward(step)\n",
        "        t.left(angle)"
      ],
      "execution_count": 0,
      "outputs": []
    },
    {
      "cell_type": "markdown",
      "metadata": {
        "id": "ww3Szov7acbK",
        "colab_type": "text"
      },
      "source": [
        "No nosso código introduzimos um conceito chamado de **repetição** ou *loop* utilizando um comando chamado **for**, por enquanto apenas considere que ele vai repetir as chamadas internas $n$ vezes, pois, vamos ter uma aula dedicada a isso mais a frente. Portanto, vamos desenhar um círculo verde de raio $ r=100 $."
      ]
    },
    {
      "cell_type": "code",
      "metadata": {
        "id": "z88OaxJNapx5",
        "colab_type": "code",
        "colab": {}
      },
      "source": [
        "r = 100 #@param {type:\"integer\"}\n",
        "color = \"green\" #@param {type:\"string\"}\n",
        "speed = 10 #@param {type:\"slider\", min:1, max:10, step:1}\n",
        "width = 3 #@param {type:\"integer\"}\n",
        "\n",
        "# Desenhando um círculo\n",
        "turtle.initializeTurtle()\n",
        "turtle.speed(speed)\n",
        "turtle.width(width)\n",
        "circle(turtle, r, color)\n",
        "turtle.hideturtle()"
      ],
      "execution_count": 0,
      "outputs": []
    },
    {
      "cell_type": "markdown",
      "metadata": {
        "id": "O6c5U7-zhGV_",
        "colab_type": "text"
      },
      "source": [
        "Utilizando a função **goto** e combinando algumas ideias, podemos fazer figuras interessantes. Por exemplo:"
      ]
    },
    {
      "cell_type": "code",
      "metadata": {
        "id": "b2lpFnX4iXHy",
        "colab_type": "code",
        "colab": {}
      },
      "source": [
        "# Raio inicial\n",
        "r_inicial=100\n",
        "\n",
        "turtle.initializeTurtle()\n",
        "turtle.speed(10)\n",
        "\n",
        "# Cores válidas da turtle\n",
        "colors = turtle.VALID_COLORS\n",
        "\n",
        "turtle.penup()\n",
        "turtle.goto(200, 200)\n",
        "turtle.pendown()\n",
        "circle(turtle, r_inicial, colors[1])\n",
        "\n",
        "turtle.penup()\n",
        "turtle.goto(280, 200)\n",
        "turtle.pendown()\n",
        "circle(turtle, r_inicial-20, colors[2])\n",
        "\n",
        "turtle.penup()\n",
        "turtle.goto(340, 200)\n",
        "turtle.pendown()\n",
        "circle(turtle, r_inicial-40, colors[3])\n",
        "\n",
        "turtle.penup()\n",
        "turtle.goto(380, 200)\n",
        "turtle.pendown()\n",
        "circle(turtle, r_inicial-60, colors[4])\n",
        "\n",
        "turtle.hideturtle()"
      ],
      "execution_count": 0,
      "outputs": []
    },
    {
      "cell_type": "markdown",
      "metadata": {
        "id": "O32w6RGMlmpo",
        "colab_type": "text"
      },
      "source": [
        "E se quisermos fazer o mesmo desenho acima, mas em pé? Pense e faça um código que faz o mesmo desenho acima mas em pé, do maior raio para o menor. **Dica:** mova o turtle na coordenada $y$ em vez de $x$ e para alinhar os círculos pelo centro desconte metade das diferenças dos raios em relação ao inicial em $x$. Por exemplo o raio inicial é $r=100$ e $x=200$, então o próximo raio $r$ vai ser $r=100-20$ e o próximo $x$ via ser $x=200-10$."
      ]
    },
    {
      "cell_type": "code",
      "metadata": {
        "id": "odnbq8wbpVSN",
        "colab_type": "code",
        "colab": {}
      },
      "source": [
        "# Escreva o código aqui\n"
      ],
      "execution_count": 0,
      "outputs": []
    },
    {
      "cell_type": "markdown",
      "metadata": {
        "id": "oIHPlNsByOjE",
        "colab_type": "text"
      },
      "source": [
        "### Triângulo\n",
        "\n",
        "Um triângulo é uma forma geométrica delimitada por três segmentos de retas, onde a soma interna dos seus ângulos é igual a $180^\\circ$, isto é, dados os três ângulos $\\alpha, \\beta$ e $ \\gamma $ em um triângulo temos que $ \\alpha+\\beta+\\gamma=180^\\circ $. Um triângulo tem sempre três vértices geralmente denotados por letras maiúsculas, $A,B$ e $C$. Um lado do triângulo é qualquer dos segmentos de reta formados por dois vértices, por exemplo um lado $c=AB$. Em um triângulo o comprimento de um dos lados é sempre inferior à soma dos comprimentos dos outros dois lados, essa condição é conhecida como **desigualdade triangular**. Formalmente, dado um triângulo de lados $a, b$ e $c$, temos que $ |b-c|<a<b+c $. Essa propriedade fornece um teste para saber se é possível desenhar um triângulo dado quaisquer 3 lados. \n",
        "\n",
        "<p align=\"center\">\n",
        "<img width=280px src=\"https://www.triangle-calculator.com/images/triangle_ABC_angles.gif\"/>\n",
        "<p>\n",
        "<center>\n",
        "    <b>Fig. 3 - </b> Exemplo de um triângulo.\n",
        "</center>\n",
        "    \n",
        "Geralmente triângulos são classificados quanto aos seus lados, em três tipos: **equilátero** onde seus lados tem o mesmo tamanho e por consequência os ângulos internos são iguais (cada um com $60^\\circ$); **isósceles** onde dois dos seus lados têm o mesmo tamanho e **escaleno** onde a medida dos lados são todas diferentes. E como podemos desenhar um triângulo com a ColabTurtle? Uma das formas é receber os três lados e então desenhar o triângulo. Como podemos fazer isso? Aplicando a **lei dos cosenos**! Esse algoritmo pode ser encontrado [aqui](https://www.quora.com/What-algorithm-would-you-use-to-draw-any-triangle-knowing-only-the-length-of-its-sides). Para desenhar o triângulo a ideia é a seguinte: vamos mover o turtle $ a $ unidades, vamos virar à esquerda de acordo com o ângulo dado por $\\pi - \\arccos \\frac{a^2+b^2-c^2}{2ab}$, depois vamos mover o turtle $ b $ unidades, vamos virar à esquerda de acordo com o ângulo dado por $\\pi - \\arccos \\frac{b^2+c^2-a^2}{2bc}$, e finalmente vamos mover o turtle $ c $ unidades. Pronto podemos desenhar um triângulo baseado em seus lados! Existem outras formas de desenhar o triângulo, como por exemplo fornecendo pontos e utilizando a função goto, também é possível utilizar outras [propriedades](https://en.wikipedia.org/wiki/Law_of_cosines) da lei dos cosenos, mas nosso método é suficiente para nossa aplicação."
      ]
    },
    {
      "cell_type": "code",
      "metadata": {
        "id": "5jdaMTv--g6q",
        "colab_type": "code",
        "colab": {}
      },
      "source": [
        "# \n",
        "# Função que desenha um triângulo com a ColabTurtle\n",
        "#\n",
        "# Entradas : t = objeto turtle.\n",
        "#            a = um lado do triângulo (int).\n",
        "#            b = um lado do triângulo (int).\n",
        "#            c = um lado do triângulo (int).\n",
        "#            color = cor do retângulo (String) em turtle.VALID_COLORS.\n",
        "#\n",
        "#            Observação: |b-c|<a<b+c\n",
        "#\n",
        "def triangle(t, a, b, c, color=\"red\"):\n",
        "    \n",
        "    t.color(color)\n",
        "    \n",
        "    if not(abs(b-c)<a<b+c):\n",
        "        raise ValueError('Não é possível desenhar um triângulo com esses lados')\n",
        "    \n",
        "    turn = lambda a,b,c: math.degrees(math.pi - math.acos((a*a+b*b-c*c)/(2*a*b)))\n",
        "    t.forward(a)\n",
        "    t.left(turn(a,b,c))\n",
        "    t.forward(b)\n",
        "    t.left(turn(b,c,a))\n",
        "    t.forward(c)  "
      ],
      "execution_count": 0,
      "outputs": []
    },
    {
      "cell_type": "markdown",
      "metadata": {
        "id": "lIkW-ocfUqrT",
        "colab_type": "text"
      },
      "source": [
        "Nossa função que desenha triângulos tem um comando novo, chamado **if** esse é um comando condicional que será estudado adiante, no momento apenas tenha em mente que o **if** vai chamar o código interno se, e somente se a condição for **verdadeira**, nesse caso se as medidas não obederecem a desigualdade triangular vamos devolver ao usuário um erro (chamada do **raise**). Vamos chamar nossa função para um triângulo equilátero de cor $color=\\text{\"purple\"}$ *e* de lados $a=b=c=200$."
      ]
    },
    {
      "cell_type": "code",
      "metadata": {
        "id": "GfMKY8pNVV_V",
        "colab_type": "code",
        "colab": {}
      },
      "source": [
        "a = 200 #@param {type:\"integer\"}\n",
        "b = 200 #@param {type:\"integer\"}\n",
        "c = 200 #@param {type:\"integer\"}\n",
        "color = \"purple\" #@param {type:\"string\"}\n",
        "speed = 5 #@param {type:\"slider\", min:1, max:10, step:1}\n",
        "width = 3 #@param {type:\"integer\"}\n",
        "\n",
        "# Desenhando um triângulo\n",
        "turtle.initializeTurtle()\n",
        "turtle.speed(speed)\n",
        "turtle.width(width)\n",
        "triangle(turtle, a, b, c, color)\n",
        "turtle.hideturtle()"
      ],
      "execution_count": 0,
      "outputs": []
    },
    {
      "cell_type": "markdown",
      "metadata": {
        "id": "E4ditB2PTbYH",
        "colab_type": "text"
      },
      "source": [
        "O triângulo acima é um triângulo equilátero, mas ele está rotacionado em relação ao eixo horizontal. Como podemos desenhar ele de forma que um dos seus lados fique paralelo ao eixo horizontal? **Dica:**  use a função left para deixar o turtle paralelo ao eixo horizontal."
      ]
    },
    {
      "cell_type": "code",
      "metadata": {
        "id": "sCbC-iq4edAx",
        "colab_type": "code",
        "colab": {}
      },
      "source": [
        "a = 200 #@param {type:\"integer\"}\n",
        "b = 200 #@param {type:\"integer\"}\n",
        "c = 200 #@param {type:\"integer\"}\n",
        "color = \"purple\" #@param {type:\"string\"}\n",
        "speed = 5 #@param {type:\"slider\", min:1, max:10}\n",
        "width = 3 #@param {type:\"integer\"}\n",
        "\n",
        "# Desenhando um triângulo\n",
        "turtle.initializeTurtle()\n",
        "turtle.speed(speed)\n",
        "turtle.width(width)\n",
        "\n",
        "# Rotacione o turtle utilizando a função left\n",
        "\n",
        "# Desenhando...\n",
        "triangle(turtle, a, b, c, color)\n",
        "turtle.hideturtle()"
      ],
      "execution_count": 0,
      "outputs": []
    },
    {
      "cell_type": "markdown",
      "metadata": {
        "id": "v7PPZiEPe6jc",
        "colab_type": "text"
      },
      "source": [
        "## Atividades\n",
        "\n",
        "**A1.** A nossa primeira atividade envolve desenhar quadrados concêntricos, ou seja, que compartilham o mesmo centro. Já temos a função **square** , agora basta escrever algumas linhas para termos a nossa solução. Portanto, desenvolva uma função **quadrados_con** que recebe como parâmetros um objeto turtle $t$ e as coordenadas iniciais $xc$ e $yc$. Um exemplo de solução é apresentado abaixo:\n",
        "\n",
        "<p align=\"center\">\n",
        "<img width=290px src=\"https://i.imgur.com/VyrWGf3.png\" />\n",
        " </p>\n",
        " <center>\n",
        "    <b>Fig. 4 - </b> Exemplo de solução com 5 quadrados concêntricos.\n",
        " </center> \n",
        " \n",
        "**Dicas:** Tente fazer dois quadrados concêntricos, não vá fazendo todos de uma vez, se não pode dificultar a solução. A ideia geral é mover o turtle para o canto inferior direito do quadrado usando **goto**. Utilize **penup** e **pendown** entre os desenhos dos retângulos se não o **goto** vai desenhar em vez de posicionar a turtle. Não é necessário partir do centro da figura, mas é preciso fixar uma posição inicial do turtle, por exemplo $x=350$ e $y=250$. Nossa turtle começa o desenho apontando à $90^\\circ$, ao final ela termina em $ 0^\\circ $, isso implica que depois de desenhar cada quadrado é necessário rotacionar o turtle $ 90^\\circ $ à esquerda, isto é, chamar **turtle.left(90)**."
      ]
    },
    {
      "cell_type": "code",
      "metadata": {
        "id": "BLzogL2iqseE",
        "colab_type": "code",
        "colab": {}
      },
      "source": [
        "def quadrados_con(t, xc, yc):\n",
        "    \n",
        "    # Cores válidas\n",
        "    colors = turtle.VALID_COLORS\n",
        "\n",
        "    # Primeiro retângulo\n",
        "    t.penup()\n",
        "    t.goto(xc+50, yc+50)\n",
        "\n",
        "    # Retirando a caneta\n",
        "    t.pendown()\n",
        "    rectangle(t, 100, 100, color=colors[1])\n",
        "\n",
        "    # Segundo retângulo...\n",
        "\n",
        "speed = 5 #@param {type:\"slider\", min:1, max:10, step:1}\n",
        "width = 3 #@param {type:\"integer\"}\n",
        "\n",
        "# Inicializando a turtle\n",
        "turtle.initializeTurtle()\n",
        "turtle.speed(speed)\n",
        "turtle.width(width)\n",
        "\n",
        "# Posição inicial\n",
        "xc = 350\n",
        "yc = 250\n",
        "\n",
        "# Desenhando...\n",
        "quadrados_con(turtle, xc, yc)\n",
        "turtle.hideturtle()\n"
      ],
      "execution_count": 0,
      "outputs": []
    },
    {
      "cell_type": "markdown",
      "metadata": {
        "id": "zsWgMkjHkcgc",
        "colab_type": "text"
      },
      "source": [
        "**A2.** Faça a função acima desenhar os retângulos centralizados. **Dica:** Modifique as posições iniciais."
      ]
    },
    {
      "cell_type": "code",
      "metadata": {
        "id": "7tUGvZnYmPMi",
        "colab_type": "code",
        "colab": {}
      },
      "source": [
        "# Escreva a solução aqui\n"
      ],
      "execution_count": 0,
      "outputs": []
    },
    {
      "cell_type": "markdown",
      "metadata": {
        "id": "qM6sTnhxq0Fc",
        "colab_type": "text"
      },
      "source": [
        "**A3.** A terceira atividade envolve círculos. A ideia é desenhar o símbolo das olímpiadas! Desenvolva uma função **simbolo_olimpiadas** que recebe como parâmetros um objeto turtle $t$ um parâmetro de raio $r$ e as coordenadas iniciais $xc$ e $yc$. Não é importante apresentar um desenho centralizado, ou mesmo perfeito, o objetivo principal do exercício é treinar os conhecimentos de python. Um exemplo de saída é apresentado na Figura abaixo:\n",
        "\n",
        "<p align=\"center\">\n",
        "<img width=310px src=\"https://i.imgur.com/7MlowTV.png\" />\n",
        " </p>\n",
        " <center>\n",
        "    <b>Fig. 4 - </b> Exemplo de solução para o desenho do cículo das olimpíadas.\n",
        " </center> \n",
        " \n",
        "**Dicas:** Comece em uma posição inicial $(xc=200, yc=200)$ mantenha o valor de $yc$ fixo e vá variando o valor de $xc$, a cada círculo concluído, levante a caneta com **penup** recalcule a posição com **goto**, faça isso com os três círculos superiores (azul, preto e vermelho). Após, dê um passo menor em $xc$ a partir do ponto inicial e dê um valor suficiente para $yc$ (para desenhar o círculo amarelo da segunda linha), depois incremente $xc$ e mantenha o novo $yc$ para desenhar o último círculo (não esquece de dar **penup** para levantar a caneta antes dos **goto** e **pendown** para voltar a desenhar). "
      ]
    },
    {
      "cell_type": "code",
      "metadata": {
        "id": "yZR28GA640uj",
        "colab_type": "code",
        "colab": {}
      },
      "source": [
        "def simbolo_olimpiadas(t, r, xc, yc):  \n",
        "    \n",
        "    # Círculo azul\n",
        "    t.penup()\n",
        "    t.goto(xc, yc)\n",
        "\n",
        "    # Retirando a caneta\n",
        "    t.pendown()\n",
        "    circle(t, r, color=\"blue\")\n",
        "    \n",
        "    t.penup() \n",
        "    t.goto(xc+150, yc)\n",
        "    \n",
        "    # Círculo preto\n",
        "    \n",
        "r = 100\n",
        "width = 5 #@param {type:\"integer\"}\n",
        "speed = 10 #@param {type:\"slider\", min:1, max:10, step:1}\n",
        "\n",
        "# Inicializando a turtle\n",
        "turtle.initializeTurtle()\n",
        "turtle.speed(speed)\n",
        "turtle.width(width)\n",
        "\n",
        "# Posição inicial\n",
        "xc = 200\n",
        "yc = 200\n",
        "simbolo_olimpiadas(turtle, r, xc, yc)\n",
        "turtle.hideturtle()"
      ],
      "execution_count": 0,
      "outputs": []
    },
    {
      "cell_type": "markdown",
      "metadata": {
        "id": "S2TEZn8WVe6w",
        "colab_type": "text"
      },
      "source": [
        "**A4.** Agora vamos trabalhar com triângulos. A ideia é desenhar uma estrela de seis pontas utilizando triângulos **equiláteros**. O desenho não precisa estar centralizado. A ideia é receber um objeto turtle $t$ os lados do triângulo $a, b$ e $c$ e as coordenadas iniciais $xc$ e $yc$. Um exemplo de saída é apresentado abaixo:\n",
        "\n",
        "<p align=\"center\">\n",
        "<img width=310px src=\"https://i.imgur.com/xbluOAf.png\" />\n",
        " </p>\n",
        " <center>\n",
        "    <b>Fig. 5 - </b> Exemplo de solução para o desenho da estrela de seis pontas.\n",
        " </center> \n",
        " \n",
        "**Dicas:** Comece em uma posição inicial $(xc=200, yc=200)$ e faça o primeiro triângulo. Note que, os triângulos são desenhados no sentido anti-horário. Pensando nesse fato, a ideia geral é encontrar os pontos para rodar a função que desenha o triângulo. Cada vez que o triângulo for desenhado observe quantos graus serão necessários virar a caneta para desenhar o próximo triângulo (os números serão múltiplos de 60, pois os triângulos são equiláteros) e se é necessário deslocar a caneta para desenhar. As mesmas dicas de **penup** e **pendown** dos exercícios anteriores são necessárias aqui."
      ]
    },
    {
      "cell_type": "code",
      "metadata": {
        "id": "HTqx9cx0oYGr",
        "colab_type": "code",
        "colab": {}
      },
      "source": [
        "def estrela_seis_pontas(t, a, b, c, xc, yc):\n",
        "    \n",
        "    # Posição inicial\n",
        "    turtle.penup()\n",
        "    turtle.goto(xc, yc)\n",
        "    turtle.pendown()\n",
        "    \n",
        "    # Primeiro triângulo\n",
        "    t.left(270)\n",
        "    triangle(t, a, b, c)\n",
        "\n",
        "     \n",
        "a = 80 #@param {type:\"integer\"}\n",
        "b = a\n",
        "c = a \n",
        "width = 3 #@param {type:\"integer\"}\n",
        "speed = 5 #@param {type:\"slider\", min:1, max:10, step:1}\n",
        "\n",
        "# Inicializando a turtle\n",
        "turtle.initializeTurtle()\n",
        "turtle.speed(speed)\n",
        "turtle.width(width)\n",
        "\n",
        "# Posição inicial\n",
        "xc = 200\n",
        "yc = 200\n",
        "estrela_seis_pontas(turtle, a, b, c, xc, yc)\n",
        "turtle.hideturtle()"
      ],
      "execution_count": 0,
      "outputs": []
    },
    {
      "cell_type": "markdown",
      "metadata": {
        "id": "iBXuIEM0iAuH",
        "colab_type": "text"
      },
      "source": [
        "**A5.** Faça a função acima desenhar a estrela centralizada. **Dica:** Modifique as posições iniciais."
      ]
    },
    {
      "cell_type": "code",
      "metadata": {
        "id": "V3QyV8hxmSqU",
        "colab_type": "code",
        "colab": {}
      },
      "source": [
        "# Escreva a solução aqui\n"
      ],
      "execution_count": 0,
      "outputs": []
    },
    {
      "cell_type": "markdown",
      "metadata": {
        "id": "3uAdk8Osl-4v",
        "colab_type": "text"
      },
      "source": [
        "**A6.** Faça a função acima desenhar cada triângulo da estrela de uma cor."
      ]
    },
    {
      "cell_type": "code",
      "metadata": {
        "id": "oxnPemoVmTel",
        "colab_type": "code",
        "colab": {}
      },
      "source": [
        "# Escreva a solução aqui\n"
      ],
      "execution_count": 0,
      "outputs": []
    }
  ]
}